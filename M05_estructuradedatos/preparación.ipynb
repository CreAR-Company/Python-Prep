{
 "cells": [
  {
   "cell_type": "code",
   "execution_count": 16,
   "metadata": {},
   "outputs": [],
   "source": [
    "a = (2,3,4,5,6,7)"
   ]
  },
  {
   "cell_type": "code",
   "execution_count": 17,
   "metadata": {},
   "outputs": [
    {
     "data": {
      "text/plain": [
       "tuple"
      ]
     },
     "execution_count": 17,
     "metadata": {},
     "output_type": "execute_result"
    }
   ],
   "source": [
    "type(a)"
   ]
  },
  {
   "cell_type": "code",
   "execution_count": 19,
   "metadata": {},
   "outputs": [
    {
     "data": {
      "text/plain": [
       "7"
      ]
     },
     "execution_count": 19,
     "metadata": {},
     "output_type": "execute_result"
    }
   ],
   "source": [
    "a[5]"
   ]
  },
  {
   "cell_type": "code",
   "execution_count": 20,
   "metadata": {},
   "outputs": [
    {
     "data": {
      "text/plain": [
       "True"
      ]
     },
     "execution_count": 20,
     "metadata": {},
     "output_type": "execute_result"
    }
   ],
   "source": [
    "2 in a"
   ]
  },
  {
   "cell_type": "code",
   "execution_count": 25,
   "metadata": {},
   "outputs": [],
   "source": [
    "a\n",
    "s= (1,2,3,4,5,6)\n",
    "iterable = iter(s) "
   ]
  },
  {
   "cell_type": "code",
   "execution_count": 35,
   "metadata": {},
   "outputs": [
    {
     "ename": "TypeError",
     "evalue": "unsupported operand type(s) for +=: 'tuple_iterator' and 'int'",
     "output_type": "error",
     "traceback": [
      "\u001b[1;31m---------------------------------------------------------------------------\u001b[0m",
      "\u001b[1;31mTypeError\u001b[0m                                 Traceback (most recent call last)",
      "Cell \u001b[1;32mIn[35], line 2\u001b[0m\n\u001b[0;32m      1\u001b[0m \u001b[39mwhile\u001b[39;00m (\u001b[39m2\u001b[39m \u001b[39min\u001b[39;00m \u001b[39mlist\u001b[39m(a)):\n\u001b[1;32m----> 2\u001b[0m        iterable \u001b[39m+\u001b[39m\u001b[39m=\u001b[39m \u001b[39m1\u001b[39m\n\u001b[0;32m      3\u001b[0m \u001b[39mprint\u001b[39m(iterable)\n",
      "\u001b[1;31mTypeError\u001b[0m: unsupported operand type(s) for +=: 'tuple_iterator' and 'int'"
     ]
    }
   ],
   "source": [
    "while (2 in a):\n",
    "       iterable += 1\n",
    "print(iterable)\n",
    "       "
   ]
  },
  {
   "cell_type": "code",
   "execution_count": null,
   "metadata": {},
   "outputs": [],
   "source": [
    "diccionario = {\"clave\":1,\n",
    "               \"clave2\": 2,\n",
    "               \"clave3\": 4,\n",
    "               \"clave4\": 8}\n"
   ]
  },
  {
   "cell_type": "code",
   "execution_count": 30,
   "metadata": {},
   "outputs": [
    {
     "name": "stdout",
     "output_type": "stream",
     "text": [
      "dict_keys(['clave', 'clave2', 'clave3', 'clave4'])\n",
      "dict_values([1, 2, 4, 8])\n",
      "4\n"
     ]
    }
   ],
   "source": [
    "diccionario[\"clave\"]\n",
    "\n",
    "\n",
    "print(diccionario.keys()) # Devuelve las claves\n",
    "print(diccionario.values())# Devuelve los valores\n",
    "print(len(diccionario)) # Devuelve el número de elementos"
   ]
  },
  {
   "cell_type": "code",
   "execution_count": 13,
   "metadata": {},
   "outputs": [
    {
     "name": "stdout",
     "output_type": "stream",
     "text": [
      "2\n",
      "4\n"
     ]
    }
   ],
   "source": [
    "# iterables \n",
    "\n",
    "lis = [1,2,3,4]\n",
    "i=1\n",
    "while i < len(lis):\n",
    "    elemento = lis[i] \n",
    "    print(elemento) # imprimir antes de el \"agregador\"\n",
    "    i += 2 # Se agrega al iterador\n",
    "    "
   ]
  },
  {
   "cell_type": "code",
   "execution_count": 14,
   "metadata": {},
   "outputs": [
    {
     "name": "stdout",
     "output_type": "stream",
     "text": [
      "(0, 'ajas')\n",
      "(1, 'caspitas')\n",
      "(2, 'recorcholis')\n",
      "(3, 'centellas')\n"
     ]
    }
   ],
   "source": [
    "import re \n",
    "from collections.abc import Iterable\n",
    "\n",
    "text = [\"AJAS\",\"CASPITAS\",\"RECoRCHOLIS\",\"Centellas\"]\n",
    "\n",
    "for word in enumerate(text): # Enumertae devuelde un indice asociado a la iteración\n",
    "    word_lower = str(word).lower()\n",
    "    if word_lower == \"ajas\":\n",
    "                word_lower.upper()\n",
    "                continue\n",
    "    print(word_lower)\n",
    "    \n"
   ]
  },
  {
   "cell_type": "code",
   "execution_count": 15,
   "metadata": {},
   "outputs": [
    {
     "data": {
      "text/plain": [
       "True"
      ]
     },
     "execution_count": 15,
     "metadata": {},
     "output_type": "execute_result"
    }
   ],
   "source": [
    "isinstance(text, Iterable) # Comprobar si un objeto es iterable `"
   ]
  },
  {
   "cell_type": "markdown",
   "metadata": {},
   "source": [
    "### zip\n",
    "\n",
    "\n",
    "Es una función que une dos listas y crea una tupla iterable"
   ]
  },
  {
   "cell_type": "code",
   "execution_count": 42,
   "metadata": {},
   "outputs": [
    {
     "name": "stdout",
     "output_type": "stream",
     "text": [
      "<zip object at 0x000002518583E200>\n"
     ]
    }
   ],
   "source": [
    "# listas\n",
    "\n",
    "lista_a = [1,2,3,4,5,6]\n",
    "lista_b = [\"a\",\"b\",\"c\",\"d\",\"e\"]\n",
    "combinar = zip(lista_a, lista_b)\n",
    "print(combinar)"
   ]
  },
  {
   "cell_type": "code",
   "execution_count": 43,
   "metadata": {},
   "outputs": [
    {
     "name": "stdout",
     "output_type": "stream",
     "text": [
      "(0, (1, 'a'))\n",
      "(1, (2, 'b'))\n",
      "(2, (3, 'c'))\n",
      "(3, (4, 'd'))\n",
      "(4, (5, 'e'))\n"
     ]
    }
   ],
   "source": [
    "for iter in enumerate(combinar):\n",
    "    print(iter)\n",
    "\n",
    "    \n"
   ]
  },
  {
   "cell_type": "code",
   "execution_count": 47,
   "metadata": {},
   "outputs": [
    {
     "ename": "AttributeError",
     "evalue": "'list' object has no attribute 'describe'",
     "output_type": "error",
     "traceback": [
      "\u001b[1;31m---------------------------------------------------------------------------\u001b[0m",
      "\u001b[1;31mAttributeError\u001b[0m                            Traceback (most recent call last)",
      "Cell \u001b[1;32mIn[47], line 1\u001b[0m\n\u001b[1;32m----> 1\u001b[0m \u001b[39mlist\u001b[39m(\u001b[39miter\u001b[39m)\u001b[39m.\u001b[39mdescribe()\n",
      "\u001b[1;31mAttributeError\u001b[0m: 'list' object has no attribute 'describe'"
     ]
    }
   ],
   "source": [
    "list(iter).describe()"
   ]
  },
  {
   "cell_type": "markdown",
   "metadata": {},
   "source": [
    "### Condicionales"
   ]
  },
  {
   "cell_type": "code",
   "execution_count": 55,
   "metadata": {},
   "outputs": [
    {
     "data": {
      "text/plain": [
       "[['a', 'a', 'a', 'a', 'a', 'a', 'a', 'a', 'a', 'a']]"
      ]
     },
     "execution_count": 55,
     "metadata": {},
     "output_type": "execute_result"
    }
   ],
   "source": [
    "lista = [\"ala es el mejor humano conocido en la galaxia del super kasiosama\"]\n",
    "letras_a = [re.findall(\"a\", x) for x in lista]\n",
    "letras_a"
   ]
  }
 ],
 "metadata": {
  "kernelspec": {
   "display_name": "base",
   "language": "python",
   "name": "python3"
  },
  "language_info": {
   "codemirror_mode": {
    "name": "ipython",
    "version": 3
   },
   "file_extension": ".py",
   "mimetype": "text/x-python",
   "name": "python",
   "nbconvert_exporter": "python",
   "pygments_lexer": "ipython3",
   "version": "3.11.4"
  },
  "orig_nbformat": 4
 },
 "nbformat": 4,
 "nbformat_minor": 2
}
