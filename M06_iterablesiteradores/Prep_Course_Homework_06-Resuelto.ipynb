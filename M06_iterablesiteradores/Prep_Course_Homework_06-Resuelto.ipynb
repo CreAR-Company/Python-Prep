{
 "cells": [
  {
   "attachments": {},
   "cell_type": "markdown",
   "metadata": {},
   "source": [
    "## Iteradores e iterables"
   ]
  },
  {
   "attachments": {},
   "cell_type": "markdown",
   "metadata": {},
   "source": [
    "1) A partir de una lista vacía, utilizar un ciclo while para cargar allí números negativos del -15 al -1"
   ]
  },
  {
   "cell_type": "code",
   "execution_count": 1,
   "metadata": {},
   "outputs": [
    {
     "name": "stdout",
     "output_type": "stream",
     "text": [
      "[-15, -14, -13, -12, -11, -10, -9, -8, -7, -6, -5, -4, -3, -2, -1]\n"
     ]
    }
   ],
   "source": [
    "lista = []  # Crea una lista vacía\n",
    "n = -15  # Inicializa la variable n con el valor -15\n",
    "while n < 0:  # Mientras n sea menor que 0, se ejecuta el bucle\n",
    "    lista.append(n)  # Agrega el valor de n a la lista\n",
    "    n += 1  # Incrementa el valor de n en 1 en cada iteración\n",
    "print(lista)  # Imprime la lista resultante\n",
    "\n"
   ]
  },
  {
   "attachments": {},
   "cell_type": "markdown",
   "metadata": {},
   "source": [
    "2) ¿Con un ciclo while sería posible recorrer la lista para imprimir sólo los números pares?"
   ]
  },
  {
   "cell_type": "code",
   "execution_count": 2,
   "metadata": {},
   "outputs": [
    {
     "name": "stdout",
     "output_type": "stream",
     "text": [
      "-14\n",
      "-12\n",
      "-10\n",
      "-8\n",
      "-6\n",
      "-4\n",
      "-2\n"
     ]
    }
   ],
   "source": [
    "n = 0  # Inicializa la variable n con el valor 0\n",
    "\n",
    "while n < len(lista):  # Mientras n sea menor que la longitud de la lista, se ejecuta el bucle\n",
    "    if lista[n] % 2 == 0:  # Verifica si el elemento en la posición n de la lista es divisible por 2\n",
    "        print(lista[n])  # Imprime el elemento si cumple la condición\n",
    "    n += 1  # Incrementa el valor de n en 1 en cada iteración\n",
    "\n"
   ]
  },
  {
   "attachments": {},
   "cell_type": "markdown",
   "metadata": {},
   "source": [
    "3) Resolver el punto anterior sin utilizar un ciclo while"
   ]
  },
  {
   "cell_type": "code",
   "execution_count": 3,
   "metadata": {},
   "outputs": [
    {
     "name": "stdout",
     "output_type": "stream",
     "text": [
      "-14\n",
      "-12\n",
      "-10\n",
      "-8\n",
      "-6\n",
      "-4\n",
      "-2\n"
     ]
    }
   ],
   "source": [
    "for elemento in lista:  # Itera sobre cada elemento de la lista\n",
    "    if elemento % 2 == 0:  # Verifica si el elemento es divisible por 2\n",
    "        print(elemento)  # Imprime el elemento si cumple la condición\n"
   ]
  },
  {
   "attachments": {},
   "cell_type": "markdown",
   "metadata": {},
   "source": [
    "4) Utilizar el iterable para recorrer sólo los primeros 3 elementos"
   ]
  },
  {
   "cell_type": "code",
   "execution_count": 4,
   "metadata": {},
   "outputs": [
    {
     "name": "stdout",
     "output_type": "stream",
     "text": [
      "-15\n",
      "-14\n",
      "-13\n"
     ]
    }
   ],
   "source": [
    "for elemento in lista[:3]:  # Itera sobre los primeros tres elementos de la lista\n",
    "    print(elemento)  # Imprime cada elemento\n"
   ]
  },
  {
   "attachments": {},
   "cell_type": "markdown",
   "metadata": {},
   "source": [
    "5) Utilizar la función **enumerate** para obtener dentro del iterable, tambien el índice al que corresponde el elemento"
   ]
  },
  {
   "cell_type": "code",
   "execution_count": 9,
   "metadata": {},
   "outputs": [
    {
     "name": "stdout",
     "output_type": "stream",
     "text": [
      "0 -15\n",
      "1 -14\n",
      "2 -13\n",
      "3 -12\n",
      "4 -11\n",
      "5 -10\n",
      "6 -9\n",
      "7 -8\n",
      "8 -7\n",
      "9 -6\n",
      "10 -5\n",
      "11 -4\n",
      "12 -3\n",
      "13 -2\n",
      "14 -1\n"
     ]
    }
   ],
   "source": [
    "# La función enumerate(lista) devuelve un iterador que genera pares de valores, donde el primer valor es el índice y el segundo valor es el elemento de la lista. En cada iteración del bucle, la variable i representa el índice y la variable e representa el elemento.\n",
    "\n",
    "for i, e in enumerate(lista):  # Itera sobre la lista y obtiene el índice y el elemento en cada iteración\n",
    "    print(i, e)  # Imprime el índice y el elemento\n"
   ]
  },
  {
   "attachments": {},
   "cell_type": "markdown",
   "metadata": {},
   "source": [
    "6) Dada la siguiente lista de números enteros entre 1 y 20, crear un ciclo donde se completen los valores faltantes: lista = [1,2,5,7,8,10,13,14,15,17,20]"
   ]
  },
  {
   "cell_type": "code",
   "execution_count": 5,
   "metadata": {},
   "outputs": [],
   "source": [
    "lista = [1,2,5,7,8,10,13,14,15,17,20]"
   ]
  },
  {
   "cell_type": "code",
   "execution_count": 6,
   "metadata": {},
   "outputs": [
    {
     "name": "stdout",
     "output_type": "stream",
     "text": [
      "[1, 2, 3, 4, 5, 6, 7, 8, 9, 10, 11, 12, 13, 14, 15, 16, 17, 18, 19, 20]\n"
     ]
    }
   ],
   "source": [
    "n = 1  # Inicializa la variable n con el valor 1\n",
    "\n",
    "while n <= 20:  # Mientras n sea menor o igual a 20, se ejecuta el bucle\n",
    "    if not (n in lista):  # Verifica si n no está presente en la lista\n",
    "        lista.insert(n-1, n)  # Inserta el valor de n en la posición (n-1) de la lista\n",
    "    n += 1  # Incrementa el valor de n en 1 en cada iteración\n",
    "\n",
    "print(lista)  # Imprime la lista resultante\n"
   ]
  },
  {
   "attachments": {},
   "cell_type": "markdown",
   "metadata": {},
   "source": [
    "7) La sucesión de Fibonacci es un listado de números que sigue la fórmula: <br>\n",
    "n<sub>0</sub> = 0<br>\n",
    "n<sub>1</sub> = 1<br>\n",
    "n<sub>i</sub> = n<sub>i-1</sub> + n<sub>i-2</sub><br>\n",
    "Crear una lista con los primeros treinta números de la sucesión.<br>"
   ]
  },
  {
   "cell_type": "code",
   "execution_count": 2,
   "metadata": {},
   "outputs": [
    {
     "name": "stdout",
     "output_type": "stream",
     "text": [
      "[0, 1, 1, 2, 3, 5, 8, 13, 21, 34, 55, 89, 144, 233, 377, 610, 987, 1597, 2584, 4181, 6765, 10946, 17711, 28657, 46368, 75025, 121393, 196418, 317811, 514229]\n"
     ]
    }
   ],
   "source": [
    "fibo = [0, 1]  # Crea una lista inicial con los primeros dos números de la secuencia de Fibonacci\n",
    "\n",
    "n = 2  # Inicializa la variable n con el valor 2\n",
    "\n",
    "while n < 30:  # Mientras n sea menor que 30, se ejecuta el bucle\n",
    "    fibo.append(fibo[n - 1] + fibo[n - 2])  # Agrega el siguiente número de Fibonacci a la lista\n",
    "    n += 1  # Incrementa el valor de n en 1 en cada iteración\n",
    "\n",
    "print(fibo)  # Imprime la lista de la secuencia de Fibonacci\n"
   ]
  },
  {
   "attachments": {},
   "cell_type": "markdown",
   "metadata": {},
   "source": [
    "8) Realizar la suma de todos elementos de la lista del punto anterior"
   ]
  },
  {
   "cell_type": "code",
   "execution_count": 24,
   "metadata": {},
   "outputs": [
    {
     "data": {
      "text/plain": [
       "1346268"
      ]
     },
     "execution_count": 24,
     "metadata": {},
     "output_type": "execute_result"
    }
   ],
   "source": [
    "# la función sum() para calcular la suma de los elementos de la lista fibo.\n",
    "sum(fibo)"
   ]
  },
  {
   "attachments": {},
   "cell_type": "markdown",
   "metadata": {},
   "source": [
    "9) La proporción aurea se expresa con una proporción matemática que nace el número irracional Phi= 1,618… que los griegos llamaron número áureo. El cuál se puede aproximar con la sucesión de Fibonacci. Con la lista del ejercicio anterior, imprimir el cociente de los últimos 5 pares de dos números contiguos:<br>\n",
    "Donde i es la cantidad total de elementos<br>\n",
    "n<sub>i-1</sub> / n<sub>i</sub><br>\n",
    "n<sub>i-2</sub> / n<sub>i-1</sub><br>\n",
    "n<sub>i-3</sub> / n<sub>i-2</sub><br>\n",
    "n<sub>i-4</sub> / n<sub>i-3</sub><br>\n",
    "n<sub>i-5</sub> / n<sub>i-4</sub><br>\n",
    " "
   ]
  },
  {
   "cell_type": "code",
   "execution_count": 7,
   "metadata": {},
   "outputs": [
    {
     "name": "stdout",
     "output_type": "stream",
     "text": [
      "21\n",
      "34\n",
      "55\n",
      "89\n",
      "144\n",
      "233\n",
      "377\n",
      "610\n",
      "987\n",
      "1597\n",
      "2584\n",
      "4181\n",
      "6765\n",
      "10946\n",
      "17711\n",
      "28657\n",
      "46368\n",
      "75025\n",
      "121393\n",
      "196418\n"
     ]
    },
    {
     "ename": "IndexError",
     "evalue": "list index out of range",
     "output_type": "error",
     "traceback": [
      "\u001b[1;31m---------------------------------------------------------------------------\u001b[0m",
      "\u001b[1;31mIndexError\u001b[0m                                Traceback (most recent call last)",
      "Cell \u001b[1;32mIn[7], line 5\u001b[0m\n\u001b[0;32m      2\u001b[0m n \u001b[39m=\u001b[39m primeros \u001b[39m-\u001b[39m \u001b[39m5\u001b[39m  \u001b[39m# Valor inicial de n\u001b[39;00m\n\u001b[0;32m      4\u001b[0m \u001b[39mwhile\u001b[39;00m n \u001b[39m<\u001b[39m \u001b[39m333333\u001b[39m:  \u001b[39m# Mientras n sea menor que el número de elementos a imprimir, se ejecuta el bucle\u001b[39;00m\n\u001b[1;32m----> 5\u001b[0m     \u001b[39mprint\u001b[39m(fibo[n] \u001b[39m%\u001b[39m fibo[n \u001b[39m-\u001b[39m \u001b[39m1\u001b[39m])  \u001b[39m# Imprime el resultado de la división de dos elementos consecutivos de la lista fibo\u001b[39;00m\n\u001b[0;32m      6\u001b[0m     n \u001b[39m+\u001b[39m\u001b[39m=\u001b[39m \u001b[39m1\u001b[39m\n",
      "\u001b[1;31mIndexError\u001b[0m: list index out of range"
     ]
    }
   ],
   "source": [
    "primeros = 15  # Número de elementos que se imprimirán\n",
    "n = primeros - 5  # Valor inicial de n\n",
    "\n",
    "while n < 333333:  # Mientras n sea menor que el número de elementos a imprimir, se ejecuta el bucle\n",
    "    print(fibo[n] % fibo[n - 1])  # Imprime el resultado de la división de dos elementos consecutivos de la lista fibo\n",
    "    n += 1  # Incrementa el valor de n en 1 en cada iteración"
   ]
  },
  {
   "cell_type": "code",
   "execution_count": 1,
   "metadata": {},
   "outputs": [
    {
     "name": "stdout",
     "output_type": "stream",
     "text": [
      "0\n",
      "0\n",
      "1\n",
      "2\n",
      "3\n",
      "5\n",
      "8\n",
      "13\n",
      "21\n",
      "34\n",
      "55\n",
      "89\n",
      "144\n",
      "233\n",
      "377\n",
      "610\n",
      "987\n",
      "1597\n",
      "2584\n",
      "4181\n",
      "6765\n",
      "10946\n",
      "17711\n",
      "28657\n",
      "46368\n",
      "75025\n",
      "121393\n",
      "196418\n",
      "317811\n",
      "514229\n",
      "832040\n",
      "1346269\n",
      "2178309\n",
      "3524578\n",
      "5702887\n",
      "9227465\n",
      "14930352\n",
      "24157817\n",
      "39088169\n",
      "63245986\n",
      "102334155\n",
      "165580141\n",
      "267914296\n",
      "433494437\n",
      "701408733\n",
      "1134903170\n",
      "1836311903\n",
      "2971215073\n",
      "4807526976\n",
      "7778742049\n",
      "12586269025\n",
      "20365011074\n",
      "32951280099\n",
      "53316291173\n",
      "86267571272\n",
      "139583862445\n",
      "225851433717\n",
      "365435296162\n",
      "591286729879\n",
      "956722026041\n",
      "1548008755920\n",
      "2504730781961\n",
      "4052739537881\n",
      "6557470319842\n",
      "10610209857723\n",
      "17167680177565\n",
      "27777890035288\n",
      "44945570212853\n",
      "72723460248141\n",
      "117669030460994\n",
      "190392490709135\n",
      "308061521170129\n",
      "498454011879264\n",
      "806515533049393\n",
      "1304969544928657\n",
      "2111485077978050\n",
      "3416454622906707\n",
      "5527939700884757\n",
      "8944394323791464\n",
      "14472334024676221\n",
      "23416728348467685\n",
      "37889062373143906\n",
      "61305790721611591\n",
      "99194853094755497\n",
      "160500643816367088\n",
      "259695496911122585\n",
      "420196140727489673\n",
      "679891637638612258\n",
      "1100087778366101931\n",
      "1779979416004714189\n",
      "2880067194370816120\n",
      "4660046610375530309\n",
      "7540113804746346429\n",
      "12200160415121876738\n",
      "19740274219868223167\n",
      "31940434634990099905\n",
      "51680708854858323072\n",
      "83621143489848422977\n",
      "135301852344706746049\n",
      "218922995834555169026\n",
      "354224848179261915075\n",
      "573147844013817084101\n",
      "927372692193078999176\n",
      "1500520536206896083277\n",
      "2427893228399975082453\n",
      "3928413764606871165730\n",
      "6356306993006846248183\n",
      "10284720757613717413913\n",
      "16641027750620563662096\n",
      "26925748508234281076009\n",
      "43566776258854844738105\n",
      "70492524767089125814114\n",
      "114059301025943970552219\n",
      "184551825793033096366333\n",
      "298611126818977066918552\n",
      "483162952612010163284885\n",
      "781774079430987230203437\n",
      "1264937032042997393488322\n",
      "2046711111473984623691759\n",
      "3311648143516982017180081\n",
      "5358359254990966640871840\n",
      "8670007398507948658051921\n",
      "14028366653498915298923761\n",
      "22698374052006863956975682\n",
      "36726740705505779255899443\n",
      "59425114757512643212875125\n",
      "96151855463018422468774568\n",
      "155576970220531065681649693\n",
      "251728825683549488150424261\n",
      "407305795904080553832073954\n",
      "659034621587630041982498215\n",
      "1066340417491710595814572169\n",
      "1725375039079340637797070384\n",
      "2791715456571051233611642553\n",
      "4517090495650391871408712937\n",
      "7308805952221443105020355490\n",
      "11825896447871834976429068427\n",
      "19134702400093278081449423917\n",
      "30960598847965113057878492344\n",
      "50095301248058391139327916261\n",
      "81055900096023504197206408605\n",
      "131151201344081895336534324866\n",
      "212207101440105399533740733471\n",
      "343358302784187294870275058337\n",
      "555565404224292694404015791808\n",
      "898923707008479989274290850145\n",
      "1454489111232772683678306641953\n",
      "2353412818241252672952597492098\n",
      "3807901929474025356630904134051\n",
      "6161314747715278029583501626149\n",
      "9969216677189303386214405760200\n",
      "16130531424904581415797907386349\n",
      "26099748102093884802012313146549\n",
      "42230279526998466217810220532898\n",
      "68330027629092351019822533679447\n",
      "110560307156090817237632754212345\n",
      "178890334785183168257455287891792\n",
      "289450641941273985495088042104137\n",
      "468340976726457153752543329995929\n",
      "757791618667731139247631372100066\n",
      "1226132595394188293000174702095995\n",
      "1983924214061919432247806074196061\n",
      "3210056809456107725247980776292056\n",
      "5193981023518027157495786850488117\n",
      "8404037832974134882743767626780173\n",
      "13598018856492162040239554477268290\n",
      "22002056689466296922983322104048463\n",
      "35600075545958458963222876581316753\n",
      "57602132235424755886206198685365216\n",
      "93202207781383214849429075266681969\n",
      "150804340016807970735635273952047185\n",
      "244006547798191185585064349218729154\n",
      "394810887814999156320699623170776339\n",
      "638817435613190341905763972389505493\n",
      "1033628323428189498226463595560281832\n",
      "1672445759041379840132227567949787325\n",
      "2706074082469569338358691163510069157\n",
      "4378519841510949178490918731459856482\n",
      "7084593923980518516849609894969925639\n",
      "11463113765491467695340528626429782121\n",
      "18547707689471986212190138521399707760\n",
      "30010821454963453907530667147829489881\n",
      "48558529144435440119720805669229197641\n",
      "78569350599398894027251472817058687522\n",
      "127127879743834334146972278486287885163\n",
      "205697230343233228174223751303346572685\n",
      "332825110087067562321196029789634457848\n",
      "538522340430300790495419781092981030533\n",
      "871347450517368352816615810882615488381\n",
      "1409869790947669143312035591975596518914\n",
      "2281217241465037496128651402858212007295\n",
      "3691087032412706639440686994833808526209\n",
      "5972304273877744135569338397692020533504\n",
      "9663391306290450775010025392525829059713\n",
      "15635695580168194910579363790217849593217\n",
      "25299086886458645685589389182743678652930\n",
      "40934782466626840596168752972961528246147\n",
      "66233869353085486281758142155705206899077\n",
      "107168651819712326877926895128666735145224\n",
      "173402521172797813159685037284371942044301\n",
      "280571172992510140037611932413038677189525\n",
      "453973694165307953197296969697410619233826\n",
      "734544867157818093234908902110449296423351\n",
      "1188518561323126046432205871807859915657177\n",
      "1923063428480944139667114773918309212080528\n",
      "3111581989804070186099320645726169127737705\n",
      "5034645418285014325766435419644478339818233\n",
      "8146227408089084511865756065370647467555938\n",
      "13180872826374098837632191485015125807374171\n",
      "21327100234463183349497947550385773274930109\n",
      "34507973060837282187130139035400899082304280\n",
      "55835073295300465536628086585786672357234389\n",
      "90343046356137747723758225621187571439538669\n",
      "146178119651438213260386312206974243796773058\n",
      "236521166007575960984144537828161815236311727\n",
      "382699285659014174244530850035136059033084785\n",
      "619220451666590135228675387863297874269396512\n",
      "1001919737325604309473206237898433933302481297\n",
      "1621140188992194444701881625761731807571877809\n",
      "2623059926317798754175087863660165740874359106\n",
      "4244200115309993198876969489421897548446236915\n",
      "6867260041627791953052057353082063289320596021\n",
      "11111460156937785151929026842503960837766832936\n",
      "17978720198565577104981084195586024127087428957\n",
      "29090180355503362256910111038089984964854261893\n",
      "47068900554068939361891195233676009091941690850\n",
      "76159080909572301618801306271765994056795952743\n",
      "123227981463641240980692501505442003148737643593\n",
      "199387062373213542599493807777207997205533596336\n",
      "322615043836854783580186309282650000354271239929\n",
      "522002106210068326179680117059857997559804836265\n",
      "844617150046923109759866426342507997914076076194\n",
      "1366619256256991435939546543402365995473880912459\n",
      "2211236406303914545699412969744873993387956988653\n",
      "3577855662560905981638959513147239988861837901112\n",
      "5789092068864820527338372482892113982249794889765\n",
      "9366947731425726508977331996039353971111632790877\n",
      "15156039800290547036315704478931467953361427680642\n",
      "24522987531716273545293036474970821924473060471519\n",
      "39679027332006820581608740953902289877834488152161\n",
      "64202014863723094126901777428873111802307548623680\n",
      "103881042195729914708510518382775401680142036775841\n",
      "168083057059453008835412295811648513482449585399521\n",
      "271964099255182923543922814194423915162591622175362\n",
      "440047156314635932379335110006072428645041207574883\n",
      "712011255569818855923257924200496343807632829750245\n",
      "1152058411884454788302593034206568772452674037325128\n",
      "1864069667454273644225850958407065116260306867075373\n",
      "3016128079338728432528443992613633888712980904400501\n",
      "4880197746793002076754294951020699004973287771475874\n",
      "7896325826131730509282738943634332893686268675876375\n",
      "12776523572924732586037033894655031898659556447352249\n",
      "20672849399056463095319772838289364792345825123228624\n",
      "33449372971981195681356806732944396691005381570580873\n",
      "54122222371037658776676579571233761483351206693809497\n",
      "87571595343018854458033386304178158174356588264390370\n",
      "141693817714056513234709965875411919657707794958199867\n",
      "229265413057075367692743352179590077832064383222590237\n",
      "370959230771131880927453318055001997489772178180790104\n",
      "600224643828207248620196670234592075321836561403380341\n",
      "971183874599339129547649988289594072811608739584170445\n",
      "1571408518427546378167846658524186148133445300987550786\n",
      "2542592393026885507715496646813780220945054040571721231\n",
      "4114000911454431885883343305337966369078499341559272017\n",
      "6656593304481317393598839952151746590023553382130993248\n",
      "10770594215935749279482183257489712959102052723690265265\n",
      "17427187520417066673081023209641459549125606105821258513\n",
      "28197781736352815952563206467131172508227658829511523778\n",
      "45624969256769882625644229676772632057353264935332782291\n",
      "73822750993122698578207436143903804565580923764844306069\n",
      "119447720249892581203851665820676436622934188700177088360\n",
      "193270471243015279782059101964580241188515112465021394429\n",
      "312718191492907860985910767785256677811449301165198482789\n",
      "505988662735923140767969869749836918999964413630219877218\n",
      "818706854228831001753880637535093596811413714795418360007\n",
      "1324695516964754142521850507284930515811378128425638237225\n",
      "2143402371193585144275731144820024112622791843221056597232\n",
      "3468097888158339286797581652104954628434169971646694834457\n",
      "5611500259351924431073312796924978741056961814867751431689\n",
      "9079598147510263717870894449029933369491131786514446266146\n",
      "14691098406862188148944207245954912110548093601382197697835\n",
      "23770696554372451866815101694984845480039225387896643963981\n",
      "38461794961234640015759308940939757590587318989278841661816\n",
      "62232491515607091882574410635924603070626544377175485625797\n",
      "100694286476841731898333719576864360661213863366454327287613\n",
      "162926777992448823780908130212788963731840407743629812913410\n",
      "263621064469290555679241849789653324393054271110084140201023\n",
      "426547842461739379460149980002442288124894678853713953114433\n",
      "690168906931029935139391829792095612517948949963798093315456\n",
      "1116716749392769314599541809794537900642843628817512046429889\n",
      "1806885656323799249738933639586633513160792578781310139745345\n",
      "2923602405716568564338475449381171413803636207598822186175234\n",
      "4730488062040367814077409088967804926964428786380132325920579\n",
      "7654090467756936378415884538348976340768064993978954512095813\n",
      "12384578529797304192493293627316781267732493780359086838016392\n",
      "20038668997554240570909178165665757608500558774338041350112205\n",
      "32423247527351544763402471792982538876233052554697128188128597\n",
      "52461916524905785334311649958648296484733611329035169538240802\n",
      "84885164052257330097714121751630835360966663883732297726369399\n",
      "137347080577163115432025771710279131845700275212767467264610201\n",
      "222232244629420445529739893461909967206666939096499764990979600\n",
      "359579325206583560961765665172189099052367214309267232255589801\n",
      "581811569836004006491505558634099066259034153405766997246569401\n",
      "941390895042587567453271223806288165311401367715034229502159202\n",
      "1523202464878591573944776782440387231570435521120801226748728603\n",
      "2464593359921179141398048006246675396881836888835835456250887805\n",
      "3987795824799770715342824788687062628452272409956636682999616408\n",
      "6452389184720949856740872794933738025334109298792472139250504213\n",
      "10440185009520720572083697583620800653786381708749108822250120621\n",
      "16892574194241670428824570378554538679120491007541580961500624834\n",
      "27332759203762391000908267962175339332906872716290689783750745455\n",
      "44225333398004061429732838340729878012027363723832270745251370289\n",
      "71558092601766452430641106302905217344934236440122960529002115744\n",
      "115783425999770513860373944643635095356961600163955231274253486033\n",
      "187341518601536966291015050946540312701895836604078191803255601777\n",
      "303124944601307480151388995590175408058857436768033423077509087810\n",
      "490466463202844446442404046536715720760753273372111614880764689587\n",
      "793591407804151926593793042126891128819610710140145037958273777397\n",
      "1284057871006996373036197088663606849580363983512256652839038466984\n",
      "2077649278811148299629990130790497978399974693652401690797312244381\n",
      "3361707149818144672666187219454104827980338677164658343636350711365\n",
      "5439356428629292972296177350244602806380313370817060034433662955746\n",
      "8801063578447437644962364569698707634360652047981718378070013667111\n",
      "14240420007076730617258541919943310440740965418798778412503676622857\n",
      "23041483585524168262220906489642018075101617466780496790573690289968\n",
      "37281903592600898879479448409585328515842582885579275203077366912825\n",
      "60323387178125067141700354899227346590944200352359771993651057202793\n",
      "97605290770725966021179803308812675106786783237939047196728424115618\n",
      "157928677948851033162880158208040021697730983590298819190379481318411\n",
      "255533968719576999184059961516852696804517766828237866387107905434029\n",
      "413462646668428032346940119724892718502248750418536685577487386752440\n",
      "668996615388005031531000081241745415306766517246774551964595292186469\n",
      "1082459262056433063877940200966638133809015267665311237542082678938909\n",
      "1751455877444438095408940282208383549115781784912085789506677971125378\n",
      "2833915139500871159286880483175021682924797052577397027048760650064287\n",
      "4585371016945309254695820765383405232040578837489482816555438621189665\n",
      "7419286156446180413982701248558426914965375890066879843604199271253952\n",
      "12004657173391489668678522013941832147005954727556362660159637892443617\n",
      "19423943329837670082661223262500259061971330617623242503763837163697569\n",
      "31428600503229159751339745276442091208977285345179605163923475056141186\n",
      "50852543833066829834000968538942350270948615962802847667687312219838755\n",
      "82281144336295989585340713815384441479925901307982452831610787275979941\n",
      "133133688169362819419341682354326791750874517270785300499298099495818696\n"
     ]
    },
    {
     "ename": "TclError",
     "evalue": "invalid command name \".!canvas\"",
     "output_type": "error",
     "traceback": [
      "\u001b[1;31m---------------------------------------------------------------------------\u001b[0m",
      "\u001b[1;31mTclError\u001b[0m                                  Traceback (most recent call last)",
      "Cell \u001b[1;32mIn[1], line 44\u001b[0m\n\u001b[0;32m     41\u001b[0m     pen\u001b[39m.\u001b[39mleft(\u001b[39m45\u001b[39m)\n\u001b[0;32m     42\u001b[0m \u001b[39melse\u001b[39;00m:\n\u001b[0;32m     43\u001b[0m     \u001b[39m# Dibujar un icono en un ángulo de 90 grados para otros números\u001b[39;00m\n\u001b[1;32m---> 44\u001b[0m     pen\u001b[39m.\u001b[39mforward(\u001b[39m50\u001b[39m)\n\u001b[0;32m     45\u001b[0m     pen\u001b[39m.\u001b[39mleft(\u001b[39m90\u001b[39m)\n\u001b[0;32m     47\u001b[0m n \u001b[39m+\u001b[39m\u001b[39m=\u001b[39m \u001b[39m1\u001b[39m\n",
      "File \u001b[1;32mc:\\Users\\david\\anaconda3\\Lib\\turtle.py:1638\u001b[0m, in \u001b[0;36mTNavigator.forward\u001b[1;34m(self, distance)\u001b[0m\n\u001b[0;32m   1617\u001b[0m \u001b[39mdef\u001b[39;00m \u001b[39mforward\u001b[39m(\u001b[39mself\u001b[39m, distance):\n\u001b[0;32m   1618\u001b[0m \u001b[39m    \u001b[39m\u001b[39m\"\"\"Move the turtle forward by the specified distance.\u001b[39;00m\n\u001b[0;32m   1619\u001b[0m \n\u001b[0;32m   1620\u001b[0m \u001b[39m    Aliases: forward | fd\u001b[39;00m\n\u001b[1;32m   (...)\u001b[0m\n\u001b[0;32m   1636\u001b[0m \u001b[39m    (-50.00,0.00)\u001b[39;00m\n\u001b[0;32m   1637\u001b[0m \u001b[39m    \"\"\"\u001b[39;00m\n\u001b[1;32m-> 1638\u001b[0m     \u001b[39mself\u001b[39m\u001b[39m.\u001b[39m_go(distance)\n",
      "File \u001b[1;32mc:\\Users\\david\\anaconda3\\Lib\\turtle.py:1606\u001b[0m, in \u001b[0;36mTNavigator._go\u001b[1;34m(self, distance)\u001b[0m\n\u001b[0;32m   1604\u001b[0m \u001b[39m\u001b[39m\u001b[39m\"\"\"move turtle forward by specified distance\"\"\"\u001b[39;00m\n\u001b[0;32m   1605\u001b[0m ende \u001b[39m=\u001b[39m \u001b[39mself\u001b[39m\u001b[39m.\u001b[39m_position \u001b[39m+\u001b[39m \u001b[39mself\u001b[39m\u001b[39m.\u001b[39m_orient \u001b[39m*\u001b[39m distance\n\u001b[1;32m-> 1606\u001b[0m \u001b[39mself\u001b[39m\u001b[39m.\u001b[39m_goto(ende)\n",
      "File \u001b[1;32mc:\\Users\\david\\anaconda3\\Lib\\turtle.py:3193\u001b[0m, in \u001b[0;36mRawTurtle._goto\u001b[1;34m(self, end)\u001b[0m\n\u001b[0;32m   3191\u001b[0m     \u001b[39mself\u001b[39m\u001b[39m.\u001b[39m_position \u001b[39m=\u001b[39m start \u001b[39m+\u001b[39m delta \u001b[39m*\u001b[39m n\n\u001b[0;32m   3192\u001b[0m     \u001b[39mif\u001b[39;00m \u001b[39mself\u001b[39m\u001b[39m.\u001b[39m_drawing:\n\u001b[1;32m-> 3193\u001b[0m         screen\u001b[39m.\u001b[39m_drawline(\u001b[39mself\u001b[39m\u001b[39m.\u001b[39mdrawingLineItem,\n\u001b[0;32m   3194\u001b[0m                          (start, \u001b[39mself\u001b[39m\u001b[39m.\u001b[39m_position),\n\u001b[0;32m   3195\u001b[0m                          \u001b[39mself\u001b[39m\u001b[39m.\u001b[39m_pencolor, \u001b[39mself\u001b[39m\u001b[39m.\u001b[39m_pensize, top)\n\u001b[0;32m   3196\u001b[0m     \u001b[39mself\u001b[39m\u001b[39m.\u001b[39m_update()\n\u001b[0;32m   3197\u001b[0m \u001b[39mif\u001b[39;00m \u001b[39mself\u001b[39m\u001b[39m.\u001b[39m_drawing:\n",
      "File \u001b[1;32mc:\\Users\\david\\anaconda3\\Lib\\turtle.py:545\u001b[0m, in \u001b[0;36mTurtleScreenBase._drawline\u001b[1;34m(self, lineitem, coordlist, fill, width, top)\u001b[0m\n\u001b[0;32m    543\u001b[0m         cl\u001b[39m.\u001b[39mappend(x \u001b[39m*\u001b[39m \u001b[39mself\u001b[39m\u001b[39m.\u001b[39mxscale)\n\u001b[0;32m    544\u001b[0m         cl\u001b[39m.\u001b[39mappend(\u001b[39m-\u001b[39my \u001b[39m*\u001b[39m \u001b[39mself\u001b[39m\u001b[39m.\u001b[39myscale)\n\u001b[1;32m--> 545\u001b[0m     \u001b[39mself\u001b[39m\u001b[39m.\u001b[39mcv\u001b[39m.\u001b[39mcoords(lineitem, \u001b[39m*\u001b[39mcl)\n\u001b[0;32m    546\u001b[0m \u001b[39mif\u001b[39;00m fill \u001b[39mis\u001b[39;00m \u001b[39mnot\u001b[39;00m \u001b[39mNone\u001b[39;00m:\n\u001b[0;32m    547\u001b[0m     \u001b[39mself\u001b[39m\u001b[39m.\u001b[39mcv\u001b[39m.\u001b[39mitemconfigure(lineitem, fill\u001b[39m=\u001b[39mfill)\n",
      "File \u001b[1;32m<string>:1\u001b[0m, in \u001b[0;36mcoords\u001b[1;34m(self, *args, **kw)\u001b[0m\n",
      "File \u001b[1;32mc:\\Users\\david\\anaconda3\\Lib\\tkinter\\__init__.py:2822\u001b[0m, in \u001b[0;36mCanvas.coords\u001b[1;34m(self, *args)\u001b[0m\n\u001b[0;32m   2818\u001b[0m \u001b[39m\u001b[39m\u001b[39m\"\"\"Return a list of coordinates for the item given in ARGS.\"\"\"\u001b[39;00m\n\u001b[0;32m   2819\u001b[0m \u001b[39m# XXX Should use _flatten on args\u001b[39;00m\n\u001b[0;32m   2820\u001b[0m \u001b[39mreturn\u001b[39;00m [\u001b[39mself\u001b[39m\u001b[39m.\u001b[39mtk\u001b[39m.\u001b[39mgetdouble(x) \u001b[39mfor\u001b[39;00m x \u001b[39min\u001b[39;00m\n\u001b[0;32m   2821\u001b[0m                    \u001b[39mself\u001b[39m\u001b[39m.\u001b[39mtk\u001b[39m.\u001b[39msplitlist(\n\u001b[1;32m-> 2822\u001b[0m            \u001b[39mself\u001b[39m\u001b[39m.\u001b[39mtk\u001b[39m.\u001b[39mcall((\u001b[39mself\u001b[39m\u001b[39m.\u001b[39m_w, \u001b[39m'\u001b[39m\u001b[39mcoords\u001b[39m\u001b[39m'\u001b[39m) \u001b[39m+\u001b[39m args))]\n",
      "\u001b[1;31mTclError\u001b[0m: invalid command name \".!canvas\""
     ]
    }
   ],
   "source": [
    "import turtle\n",
    "import time\n",
    "import math\n",
    "\n",
    "# Función para verificar si un número es primo\n",
    "def es_primo(num):\n",
    "    if num <= 1:\n",
    "        return False\n",
    "    for i in range(2, int(math.sqrt(num)) + 1):\n",
    "        if num % i == 0:\n",
    "            return False\n",
    "    return True\n",
    "\n",
    "# Configuración inicial de la ventana de dibujo\n",
    "window = turtle.Screen()\n",
    "window.bgcolor(\"white\")\n",
    "\n",
    "# Crear un objeto Turtle para dibujar\n",
    "pen = turtle.Turtle()\n",
    "pen.speed(1)  # Velocidad del dibujo (1 = lento, 10 = rápido)\n",
    "\n",
    "# Definir la lista fibo con valores iniciales\n",
    "fibo = [0, 1]\n",
    "\n",
    "# Completar la lista fibo hasta el número deseado de elementos\n",
    "while len(fibo) < 1000:  # Limitado a 10 para demostración\n",
    "    fibo.append(fibo[-1] + fibo[-2])\n",
    "\n",
    "# Inicializar la variable n\n",
    "n = 2\n",
    "\n",
    "# Ejecutar el bucle y realizar los cálculos y dibujos\n",
    "while n < len(fibo):\n",
    "    result = fibo[n] % fibo[n - 1]\n",
    "    print(result)\n",
    "    \n",
    "    # Verificar si la iteración actual es un número primo\n",
    "    if es_primo(n):\n",
    "        # Dibujar un icono en un ángulo de 45 grados para números primos\n",
    "        pen.forward(50)\n",
    "        pen.left(45)\n",
    "    else:\n",
    "        # Dibujar un icono en un ángulo de 90 grados para otros números\n",
    "        pen.forward(50)\n",
    "        pen.left(90)\n",
    "    \n",
    "    n += 1\n",
    "\n",
    "    # Pausa para ver el dibujo antes de continuar\n",
    "    time.sleep(0.5)\n",
    "\n",
    "# Cerrar la ventana al hacer clic en ella\n",
    "window.exitonclick()\n"
   ]
  },
  {
   "attachments": {},
   "cell_type": "markdown",
   "metadata": {},
   "source": [
    "10) A partir de la variable cadena ya dada, mostrar en qué posiciones aparece la letra \"n\"<br>\n",
    "cadena = 'Hola Mundo. Esto es una practica del lenguaje de programación Python'"
   ]
  },
  {
   "cell_type": "code",
   "execution_count": 7,
   "metadata": {},
   "outputs": [
    {
     "name": "stdout",
     "output_type": "stream",
     "text": [
      "0 []\n",
      "1 []\n",
      "2 []\n",
      "3 []\n",
      "4 []\n",
      "5 []\n",
      "6 []\n",
      "7 []\n",
      "8 ['n']\n",
      "9 []\n",
      "10 []\n",
      "11 []\n",
      "12 []\n",
      "13 []\n",
      "14 []\n",
      "15 []\n",
      "16 []\n",
      "17 []\n",
      "18 []\n",
      "19 []\n",
      "20 []\n",
      "21 []\n",
      "22 ['n']\n",
      "23 []\n",
      "24 []\n",
      "25 []\n",
      "26 []\n",
      "27 []\n",
      "28 []\n",
      "29 []\n",
      "30 []\n",
      "31 []\n",
      "32 []\n",
      "33 []\n",
      "34 []\n",
      "35 []\n",
      "36 []\n",
      "37 []\n",
      "38 []\n",
      "39 []\n",
      "40 ['n']\n",
      "41 []\n",
      "42 []\n",
      "43 []\n",
      "44 []\n",
      "45 []\n",
      "46 []\n",
      "47 []\n",
      "48 []\n",
      "49 []\n",
      "50 []\n",
      "51 []\n",
      "52 []\n",
      "53 []\n",
      "54 []\n",
      "55 []\n",
      "56 []\n",
      "57 []\n",
      "58 []\n",
      "59 []\n",
      "60 []\n",
      "61 ['n']\n",
      "62 []\n",
      "63 []\n",
      "64 []\n",
      "65 []\n",
      "66 []\n",
      "67 []\n",
      "68 ['n']\n",
      "69 []\n"
     ]
    }
   ],
   "source": [
    "import re \n",
    "\n",
    "cadena = \"'Hola Mundo. Esto es una practica del lenguaje de programación Python'\"\n",
    " \n",
    "for p, letra in enumerate(cadena):\n",
    "    a = re.findall(\"n\",str(letra)) \n",
    "    print(p,a)"
   ]
  },
  {
   "cell_type": "code",
   "execution_count": 9,
   "metadata": {},
   "outputs": [
    {
     "name": "stdout",
     "output_type": "stream",
     "text": [
      "7\n",
      "21\n",
      "39\n",
      "60\n",
      "67\n"
     ]
    }
   ],
   "source": [
    "cadena = 'Hola Mundo. Esto es una practica del lenguaje de programación Python'\n",
    "\n",
    "for i, c in enumerate(cadena):  # Itera sobre la cadena y obtiene el índice y el carácter en cada iteración\n",
    "    if c == 'n':  # Verifica si el carácter es igual a 'n'\n",
    "        print(i)  # Imprime el índice correspondiente al carácter 'n'"
   ]
  },
  {
   "attachments": {},
   "cell_type": "markdown",
   "metadata": {},
   "source": [
    "11) Crear un diccionario e imprimir sus claves utilizando un iterador"
   ]
  },
  {
   "cell_type": "code",
   "execution_count": 10,
   "metadata": {},
   "outputs": [
    {
     "name": "stdout",
     "output_type": "stream",
     "text": [
      "Ciudad\n",
      "País\n",
      "Continente\n"
     ]
    }
   ],
   "source": [
    "dicc = {\n",
    "    'Ciudad': ['Buenos Aires', 'Caracas', 'Bogotá', 'Lisboa', 'Roma'],\n",
    "    'País': ['Argentina', 'Venezuela', 'Colombia', 'Portugal', 'Italia'],\n",
    "    'Continente': ['América', 'América', 'América', 'Europa', 'Europa']\n",
    "}\n",
    "\n",
    "for i in dicc:  # Itera sobre las claves del diccionario\n",
    "    print(i)  # Imprime cada clave\n"
   ]
  },
  {
   "attachments": {},
   "cell_type": "markdown",
   "metadata": {},
   "source": [
    "12) Convertir en una lista la variable \"cadena\" del punto 10 y luego recorrerla con un iterador "
   ]
  },
  {
   "cell_type": "code",
   "execution_count": 11,
   "metadata": {},
   "outputs": [
    {
     "name": "stdout",
     "output_type": "stream",
     "text": [
      "<class 'str'>\n",
      "<class 'list'>\n"
     ]
    }
   ],
   "source": [
    "cadena = 'Hola Mundo. Esto es una practica del lenguaje de programación Python'\n",
    "print(type(cadena))  # Imprime el tipo de dato de la variable cadena\n",
    "\n",
    "cadena = list(cadena)  # Convierte la cadena en una lista\n",
    "print(type(cadena))  # Imprime el tipo de dato de la variable cadena después de convertirla en una lista\n"
   ]
  },
  {
   "cell_type": "code",
   "execution_count": 12,
   "metadata": {},
   "outputs": [
    {
     "name": "stdout",
     "output_type": "stream",
     "text": [
      "H\n",
      "o\n",
      "l\n",
      "a\n",
      " \n",
      "M\n",
      "u\n",
      "n\n",
      "d\n",
      "o\n",
      ".\n",
      " \n",
      "E\n",
      "s\n",
      "t\n",
      "o\n",
      " \n",
      "e\n",
      "s\n",
      " \n",
      "u\n",
      "n\n",
      "a\n",
      " \n",
      "p\n",
      "r\n",
      "a\n",
      "c\n",
      "t\n",
      "i\n",
      "c\n",
      "a\n",
      " \n",
      "d\n",
      "e\n",
      "l\n",
      " \n",
      "l\n",
      "e\n",
      "n\n",
      "g\n",
      "u\n",
      "a\n",
      "j\n",
      "e\n",
      " \n",
      "d\n",
      "e\n",
      " \n",
      "p\n",
      "r\n",
      "o\n",
      "g\n",
      "r\n",
      "a\n",
      "m\n",
      "a\n",
      "c\n",
      "i\n",
      "ó\n",
      "n\n",
      " \n",
      "P\n",
      "y\n",
      "t\n",
      "h\n",
      "o\n",
      "n\n"
     ]
    }
   ],
   "source": [
    "recorre = iter(cadena)  # Crea un iterador a partir de la cadena\n",
    "largo = len(cadena)  # Obtiene la longitud de la cadena\n",
    "for i in range(0, largo):  # Itera sobre el rango de índices desde 0 hasta largo-1\n",
    "    print(next(recorre))  # Imprime el próximo elemento del iterador"
   ]
  },
  {
   "attachments": {},
   "cell_type": "markdown",
   "metadata": {},
   "source": [
    "13) Crear dos listas y unirlas en una tupla utilizando la función zip"
   ]
  },
  {
   "cell_type": "code",
   "execution_count": 13,
   "metadata": {},
   "outputs": [
    {
     "name": "stdout",
     "output_type": "stream",
     "text": [
      "<class 'zip'>\n",
      "[('run', 'correr'), ('fly', 'volar'), ('sleep', 'dormir')]\n"
     ]
    }
   ],
   "source": [
    "lis1 = ['run', 'fly', 'sleep']\n",
    "lis2 = ['correr', 'volar', 'dormir']\n",
    "lisz = zip(lis1, lis2)  # Combina los elementos de lis1 y lis2 en pares\n",
    "print(type(lisz))  # Imprime el tipo de dato de lisz\n",
    "print(list(lisz))  # Convierte lisz en una lista y la imprime\n"
   ]
  },
  {
   "attachments": {},
   "cell_type": "markdown",
   "metadata": {},
   "source": [
    "14) A partir de la siguiente lista de números, crear una nueva sólo si el número es divisible por 7<br>\n",
    "lis = [18,21,29,32,35,42,56,60,63,71,84,90,91,100]"
   ]
  },
  {
   "cell_type": "code",
   "execution_count": 14,
   "metadata": {},
   "outputs": [
    {
     "name": "stdout",
     "output_type": "stream",
     "text": [
      "[21, 35, 42, 56, 63, 84, 91]\n"
     ]
    }
   ],
   "source": [
    "lis = [18, 21, 29, 32, 35, 42, 56, 60, 63, 71, 84, 90, 91, 100]  # Definición de la lista original\n",
    "\n",
    "lis2 = [i for i in lis if i % 7 == 0]  # Comprensión de lista para filtrar elementos divisibles por 7\n",
    "\n",
    "print(lis2)  # Impresión de la lista resultante\n"
   ]
  },
  {
   "attachments": {},
   "cell_type": "markdown",
   "metadata": {},
   "source": [
    "15) A partir de la lista de a continuación, contar la cantidad total de elementos que contiene, teniendo en cuenta que un elemento de la lista podría ser otra lista:<br>\n",
    "lis = [[1,2,3,4],'rojo','verde',[True,False,False],['uno','dos','tres']]"
   ]
  },
  {
   "cell_type": "code",
   "execution_count": 8,
   "metadata": {},
   "outputs": [],
   "source": [
    "lis = [[1,2,3,4],'rojo','verde',[True,False,False],['uno','dos','tres']]"
   ]
  },
  {
   "cell_type": "code",
   "execution_count": 9,
   "metadata": {},
   "outputs": [
    {
     "data": {
      "text/plain": [
       "list"
      ]
     },
     "execution_count": 9,
     "metadata": {},
     "output_type": "execute_result"
    }
   ],
   "source": [
    "type(lis)"
   ]
  },
  {
   "cell_type": "code",
   "execution_count": 17,
   "metadata": {},
   "outputs": [
    {
     "name": "stdout",
     "output_type": "stream",
     "text": [
      "La cantidad total de elementos es 12\n"
     ]
    }
   ],
   "source": [
    "cantidad = 0  # Inicialización del contador de elementos\n",
    "\n",
    "for elemento in lis:  # Iteración sobre cada elemento de la lista 'lis'\n",
    "    if type(elemento) == list:  # Verificación si el elemento es una lista\n",
    "        cantidad += len(elemento)  # Si es una lista, se incrementa el contador por la cantidad de elementos en esa lista\n",
    "    else:\n",
    "        cantidad += 1  # Si no es una lista, se incrementa el contador por 1, ya que se trata de un solo elemento\n",
    "print('La cantidad total de elementos es', cantidad)  # Impresión del resultado final\n"
   ]
  },
  {
   "attachments": {},
   "cell_type": "markdown",
   "metadata": {},
   "source": [
    "16) Tomar la lista del punto anterior y convertir cada elemento en una lista si no lo es"
   ]
  },
  {
   "cell_type": "code",
   "execution_count": 10,
   "metadata": {},
   "outputs": [
    {
     "name": "stdout",
     "output_type": "stream",
     "text": [
      "[[1, 2, 3, 4], ['rojo'], ['verde'], [True, False, False], ['uno', 'dos', 'tres']]\n"
     ]
    }
   ],
   "source": [
    "for indice, elemento in enumerate(lis):  # Iteración sobre cada elemento de la lista 'lis' junto con su índice\n",
    "    if type(elemento) != list:  # Verificación si el elemento no es una lista\n",
    "        lis[indice] = [elemento]  # Si no es una lista, se reemplaza por una lista que contiene ese elemento\n",
    "\n",
    "print(lis)  # Impresión de la lista modificada\n"
   ]
  }
 ],
 "metadata": {
  "interpreter": {
   "hash": "c85384e4cb51c8b72350f3a8712cc8351fdc3955e32a27f9b60c6242ab125f01"
  },
  "kernelspec": {
   "display_name": "Python 3 (ipykernel)",
   "language": "python",
   "name": "python3"
  },
  "language_info": {
   "codemirror_mode": {
    "name": "ipython",
    "version": 3
   },
   "file_extension": ".py",
   "mimetype": "text/x-python",
   "name": "python",
   "nbconvert_exporter": "python",
   "pygments_lexer": "ipython3",
   "version": "3.11.4"
  }
 },
 "nbformat": 4,
 "nbformat_minor": 4
}
